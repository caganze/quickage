{
 "cells": [
  {
   "cell_type": "code",
   "execution_count": 1,
   "id": "84ca248a",
   "metadata": {},
   "outputs": [],
   "source": [
    "import quickage\n",
    "import warnings\n",
    "warnings.filterwarnings(\"ignore\")\n",
    "\n",
    "import astropy.coordinates as astro_coord\n",
    "from tqdm import tqdm\n",
    "import numpy as np\n",
    "import matplotlib.pyplot as plt\n",
    "import astropy.units as u\n",
    "#from astropy.constants im\n",
    "%matplotlib inline"
   ]
  },
  {
   "cell_type": "code",
   "execution_count": 39,
   "id": "4f9b845e",
   "metadata": {},
   "outputs": [],
   "source": [
    "def draw_random_star():\n",
    "    \n",
    "    #draw a random star\n",
    "    df= quickage.load_galah_sample().sample(n=1)\n",
    "\n",
    "    \n",
    "    sourc={'ra': df.ra_gaia.values[0], \\\n",
    "              'dec': df.de_gaia.values[0],\n",
    "              'pmra':( df.pmra.values[0], 0.1),\n",
    "              'pmdec':(df.pmde.values[0], 0.1),\n",
    "              'distance': (1000/df.plx.values[0], 0.1*1000/df.plx.values[0]),\n",
    "              'rv':(df['rv'].values[0], 0.1*df['rv'].values[0])}\n",
    "    \n",
    "    #print (sourc)\n",
    "    metal=(df['[Fe/H]'].values[0] , 0.4)\n",
    "    \n",
    "    res=quickage.estimate_age(sourc, metal, nsigma=3, data_set='galah')\n",
    "    \n",
    "    return {'real': df.age1.values[0],\n",
    "           'res':  [res['median_age'], res['std_age']]}\n",
    " "
   ]
  },
  {
   "cell_type": "code",
   "execution_count": null,
   "id": "2d133b45",
   "metadata": {},
   "outputs": [],
   "source": [
    "fig, ax=plt.subplots(figsize=(10, 6))\n",
    "for n in range(0, 100):\n",
    "    try:\n",
    "        x= draw_random_star()\n",
    "        yerr= np.nanmedian([x['res'][0]-x['res'][1][0], x['res'][1][1]-x['res'][0]])\n",
    "        ax.errorbar(x['real'], x['res'][0],  yerr=yerr, fmt='o')\n",
    "    except:\n",
    "        pass\n",
    "ax.plot([0., 13], [0, 13], c='k')"
   ]
  },
  {
   "cell_type": "code",
   "execution_count": 23,
   "id": "574c59a8",
   "metadata": {},
   "outputs": [
    {
     "data": {
      "text/plain": [
       "{'real': 520945    9.430788\n",
       " Name: age1, dtype: float64,\n",
       " 'res': [7.117690073390723, (3.1722124573310038, 2.4658138197026824)]}"
      ]
     },
     "execution_count": 23,
     "metadata": {},
     "output_type": "execute_result"
    }
   ],
   "source": [
    "x"
   ]
  },
  {
   "cell_type": "code",
   "execution_count": null,
   "id": "2763c65c",
   "metadata": {},
   "outputs": [],
   "source": []
  }
 ],
 "metadata": {
  "kernelspec": {
   "display_name": "Python 3 (ipykernel)",
   "language": "python",
   "name": "python3"
  },
  "language_info": {
   "codemirror_mode": {
    "name": "ipython",
    "version": 3
   },
   "file_extension": ".py",
   "mimetype": "text/x-python",
   "name": "python",
   "nbconvert_exporter": "python",
   "pygments_lexer": "ipython3",
   "version": "3.9.7"
  }
 },
 "nbformat": 4,
 "nbformat_minor": 5
}
