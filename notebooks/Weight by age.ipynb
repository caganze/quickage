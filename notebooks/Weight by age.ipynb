{
 "cells": [
  {
   "cell_type": "markdown",
   "id": "3965eed8",
   "metadata": {},
   "source": [
    "This is probably a dumb idead but the ages have to be weighted by the volume over which they're computed \n",
    "\n",
    "\n",
    "Algorithm\n",
    "\n",
    "    - Repeat for 1,000 steps:\n",
    "        -Pick a volume parameter dt  --> look at the distribution of ages centered around (theta, dt)\n",
    "        - Compute median age weighted by volume (assume theta ^3)\n",
    "        - Save median age\n",
    "        - Increase d theta\n",
    "    - Return median ages weighted by the volume\n",
    "    \n",
    "    \n",
    "    \n",
    "   \n",
    "Theta is a phase-space thing (position, velocit, actions, metallicity) \n",
    "Delta theta is a tunable parameter\n",
    "\n",
    "As delta theta goes to infinity, prob --> 0\n",
    "        "
   ]
  },
  {
   "cell_type": "code",
   "execution_count": 1,
   "id": "b6cc0ed5",
   "metadata": {},
   "outputs": [],
   "source": [
    "import quickage\n",
    "import warnings\n",
    "warnings.filterwarnings(\"ignore\")\n",
    "\n",
    "import astropy.coordinates as astro_coord\n",
    "from tqdm import tqdm\n",
    "import numpy as np\n",
    "import matplotlib.pyplot as plt\n",
    "import astropy.units as u\n",
    "import math\n",
    "#from astropy.constants im\n",
    "%matplotlib inline\n",
    "import pandas as pd\n",
    "import quickage"
   ]
  },
  {
   "cell_type": "code",
   "execution_count": 2,
   "id": "1970e7b3",
   "metadata": {},
   "outputs": [],
   "source": [
    "ross={'ra': 34.76599999999999,\n",
    "              'dec':35.353388888888894,\n",
    "              'pmra':(670.532, 0.042),\n",
    "              'pmdec':( -427.412, 0.040),\n",
    "              'distance':  (17.44, 0.012),\n",
    "              'rv': (-27.80, 0.14)}\n",
    "\n",
    "ross_metal= (-0.40, 0.12)\n",
    "\n",
    "ross_age= (7.2, 3.7)\n",
    "\n",
    "trapp={'ra': 346.6250957,\n",
    "              'dec':-5.0428081,\n",
    "              'pmra': (922.0 , 0.6),\n",
    "              'pmdec': (-471.9, 0.9),\n",
    "              'distance':  (12.49 , 0.18),\n",
    "              'rv': (-51.688, 0.014)}\n",
    "trapp_metal=(0.04 , 0.08)\n",
    "\n",
    "trapp_age= (7.6, 2.2)"
   ]
  },
  {
   "cell_type": "code",
   "execution_count": 3,
   "id": "a74bb019",
   "metadata": {},
   "outputs": [
    {
     "data": {
      "text/plain": [
       "0.2894736842105263"
      ]
     },
     "execution_count": 3,
     "metadata": {},
     "output_type": "execute_result"
    }
   ],
   "source": [
    "2.2/7.6"
   ]
  },
  {
   "cell_type": "code",
   "execution_count": 4,
   "id": "53bfde1f",
   "metadata": {},
   "outputs": [],
   "source": [
    "def weighted_avg_and_std(values, weights):\n",
    "    \"\"\"\n",
    "    Return the weighted average and standard deviation.\n",
    "\n",
    "    values, weights -- Numpy ndarrays with the same shape.\n",
    "    \"\"\"\n",
    "    #remove nans\n",
    "    nans= np.logical_or(np.isnan(values), np.isnan(weights))\n",
    "    values=values[~nans]\n",
    "    weights=weights[~nans]\n",
    "    average = np.average(values, weights=weights)\n",
    "    # Fast and numerically precise:\n",
    "    variance = np.average((values-average)**2, weights=weights)\n",
    "    return (average, math.sqrt(variance))"
   ]
  },
  {
   "cell_type": "code",
   "execution_count": 5,
   "id": "36664d57",
   "metadata": {},
   "outputs": [],
   "source": [
    "data=quickage.load_sharma_galah_sample()"
   ]
  },
  {
   "cell_type": "code",
   "execution_count": 14,
   "id": "a09c5b60",
   "metadata": {},
   "outputs": [],
   "source": [
    "def draw_random_star(dataset='galah', nsample=1):\n",
    "    \n",
    "    #draw a random star\n",
    "    df= data.sample(n=nsample).reset_index(drop=True)\n",
    "    \n",
    "    res_df=[]\n",
    "    for index, row in df.iterrows():\n",
    "        try:\n",
    "            dist= 1000/np.random.normal(row.plx,row.eplx,  1000)\n",
    "\n",
    "            sourc={'ra': row.ra, \\\n",
    "                      'dec': row.dec,\n",
    "                      'pmra':( row.pmracosdec, np.abs(0.1*row.pmracosdec)),\n",
    "                      'pmdec':(row.pmde,  np.abs(0.1*row.pmde)),\n",
    "                      'distance': (np.nanmedian(dist), np.nanstd(dist)),\n",
    "                      'rv':(row['rv'], np.abs(row['er_rv']))}\n",
    "\n",
    "            metal=(row['fe_h'] , np.abs(row['e_fe_h']))\n",
    "\n",
    "            res=quickage.estimate_age(sourc, metal, nsigma=1,  data_set='galah',\\\n",
    "                          select_by=['metallicity'], fweights=50,  weighted=True)\n",
    "\n",
    "            res_df.append({'real': row.age,\n",
    "                           'real_unc': [row['e16_age_bstep'], row['e84_age_bstep']], \n",
    "                   'res_median': res['median_age'] ,\n",
    "                    'res_unc': res['std_age']})\n",
    "        except:\n",
    "            pass\n",
    "    return pd.DataFrame.from_records(res_df)"
   ]
  },
  {
   "cell_type": "code",
   "execution_count": 15,
   "id": "a5f67ef3",
   "metadata": {},
   "outputs": [
    {
     "ename": "ValueError",
     "evalue": "Distance must be >= 0. To allow negative distance values, you must explicitly pass in a `Distance` object with the the argument 'allow_negative=True'.",
     "output_type": "error",
     "traceback": [
      "\u001b[0;31m---------------------------------------------------------------------------\u001b[0m",
      "\u001b[0;31mValueError\u001b[0m                                Traceback (most recent call last)",
      "\u001b[0;32m~/opt/anaconda3/lib/python3.9/site-packages/astropy/coordinates/representation.py\u001b[0m in \u001b[0;36m__init__\u001b[0;34m(self, lon, lat, distance, differentials, copy)\u001b[0m\n\u001b[1;32m   1890\u001b[0m             \u001b[0;32mtry\u001b[0m\u001b[0;34m:\u001b[0m\u001b[0;34m\u001b[0m\u001b[0;34m\u001b[0m\u001b[0m\n\u001b[0;32m-> 1891\u001b[0;31m                 \u001b[0mself\u001b[0m\u001b[0;34m.\u001b[0m\u001b[0m_distance\u001b[0m \u001b[0;34m=\u001b[0m \u001b[0mDistance\u001b[0m\u001b[0;34m(\u001b[0m\u001b[0mself\u001b[0m\u001b[0;34m.\u001b[0m\u001b[0m_distance\u001b[0m\u001b[0;34m,\u001b[0m \u001b[0mcopy\u001b[0m\u001b[0;34m=\u001b[0m\u001b[0;32mFalse\u001b[0m\u001b[0;34m)\u001b[0m\u001b[0;34m\u001b[0m\u001b[0;34m\u001b[0m\u001b[0m\n\u001b[0m\u001b[1;32m   1892\u001b[0m             \u001b[0;32mexcept\u001b[0m \u001b[0mValueError\u001b[0m \u001b[0;32mas\u001b[0m \u001b[0me\u001b[0m\u001b[0;34m:\u001b[0m\u001b[0;34m\u001b[0m\u001b[0;34m\u001b[0m\u001b[0m\n",
      "\u001b[0;32m~/opt/anaconda3/lib/python3.9/site-packages/astropy/coordinates/distances.py\u001b[0m in \u001b[0;36m__new__\u001b[0;34m(cls, value, unit, z, cosmology, distmod, parallax, dtype, copy, order, subok, ndmin, allow_negative)\u001b[0m\n\u001b[1;32m    189\u001b[0m         \u001b[0;32mif\u001b[0m \u001b[0;32mnot\u001b[0m \u001b[0mallow_negative\u001b[0m \u001b[0;32mand\u001b[0m \u001b[0many_negative\u001b[0m\u001b[0;34m:\u001b[0m\u001b[0;34m\u001b[0m\u001b[0;34m\u001b[0m\u001b[0m\n\u001b[0;32m--> 190\u001b[0;31m             raise ValueError(\"Distance must be >= 0.  Use the argument \"\n\u001b[0m\u001b[1;32m    191\u001b[0m                              \"'allow_negative=True' to allow negative values.\")\n",
      "\u001b[0;31mValueError\u001b[0m: Distance must be >= 0.  Use the argument 'allow_negative=True' to allow negative values.",
      "\nDuring handling of the above exception, another exception occurred:\n",
      "\u001b[0;31mValueError\u001b[0m                                Traceback (most recent call last)",
      "\u001b[0;32m/var/folders/p5/jqfspzln0z965dsfd1pj_5900000gp/T/ipykernel_83690/2538646156.py\u001b[0m in \u001b[0;36m<module>\u001b[0;34m\u001b[0m\n\u001b[0;32m----> 1\u001b[0;31m \u001b[0mx\u001b[0m\u001b[0;34m=\u001b[0m \u001b[0mdraw_random_star\u001b[0m\u001b[0;34m(\u001b[0m\u001b[0mnsample\u001b[0m\u001b[0;34m=\u001b[0m\u001b[0;36m5\u001b[0m\u001b[0;34m)\u001b[0m\u001b[0;34m\u001b[0m\u001b[0;34m\u001b[0m\u001b[0m\n\u001b[0m",
      "\u001b[0;32m/var/folders/p5/jqfspzln0z965dsfd1pj_5900000gp/T/ipykernel_83690/3263309339.py\u001b[0m in \u001b[0;36mdraw_random_star\u001b[0;34m(dataset, nsample)\u001b[0m\n\u001b[1;32m     18\u001b[0m         \u001b[0mmetal\u001b[0m\u001b[0;34m=\u001b[0m\u001b[0;34m(\u001b[0m\u001b[0mrow\u001b[0m\u001b[0;34m[\u001b[0m\u001b[0;34m'fe_h'\u001b[0m\u001b[0;34m]\u001b[0m \u001b[0;34m,\u001b[0m \u001b[0mnp\u001b[0m\u001b[0;34m.\u001b[0m\u001b[0mabs\u001b[0m\u001b[0;34m(\u001b[0m\u001b[0mrow\u001b[0m\u001b[0;34m[\u001b[0m\u001b[0;34m'e_fe_h'\u001b[0m\u001b[0;34m]\u001b[0m\u001b[0;34m)\u001b[0m\u001b[0;34m)\u001b[0m\u001b[0;34m\u001b[0m\u001b[0;34m\u001b[0m\u001b[0m\n\u001b[1;32m     19\u001b[0m \u001b[0;34m\u001b[0m\u001b[0m\n\u001b[0;32m---> 20\u001b[0;31m         res=quickage.estimate_age(sourc, metal, nsigma=1,  data_set='galah',\\\n\u001b[0m\u001b[1;32m     21\u001b[0m                       select_by=['metallicity'], fweights=50,  weighted=True)\n\u001b[1;32m     22\u001b[0m \u001b[0;34m\u001b[0m\u001b[0m\n",
      "\u001b[0;32m/users/caganze/research/quickage/quickage/core.py\u001b[0m in \u001b[0;36mestimate_age\u001b[0;34m(source_coord, source_metal, nsigma, select_by, norbits, plot_kde, data_set, plot, volume, velocity_volume, vertical_volume, file_plot, file_data, export_data, weighted, fweights, cmap, vertical_velocity_volume)\u001b[0m\n\u001b[1;32m    146\u001b[0m               'rv': np.random.normal(source_coord['rv'][0],source_coord['rv'][1], int(norbits))}\n\u001b[1;32m    147\u001b[0m \u001b[0;34m\u001b[0m\u001b[0m\n\u001b[0;32m--> 148\u001b[0;31m     source_coord, source_pos=get_phase_space(Scoord['ra'], \tScoord['dec'],\\\n\u001b[0m\u001b[1;32m    149\u001b[0m                         \u001b[0mScoord\u001b[0m\u001b[0;34m[\u001b[0m\u001b[0;34m'pmra'\u001b[0m\u001b[0;34m]\u001b[0m\u001b[0;34m*\u001b[0m\u001b[0mnp\u001b[0m\u001b[0;34m.\u001b[0m\u001b[0mcos\u001b[0m\u001b[0;34m(\u001b[0m  \u001b[0mScoord\u001b[0m\u001b[0;34m[\u001b[0m\u001b[0;34m'dec'\u001b[0m\u001b[0;34m]\u001b[0m\u001b[0;34m*\u001b[0m\u001b[0mu\u001b[0m\u001b[0;34m.\u001b[0m\u001b[0mdegree\u001b[0m\u001b[0;34m)\u001b[0m\u001b[0;34m,\u001b[0m\u001b[0;31m \u001b[0m\u001b[0;31m\\\u001b[0m\u001b[0;34m\u001b[0m\u001b[0;34m\u001b[0m\u001b[0m\n\u001b[1;32m    150\u001b[0m                        \tScoord['pmdec'], \tScoord['distance'], Scoord['rv'])\n",
      "\u001b[0;32m/users/caganze/research/quickage/quickage/core.py\u001b[0m in \u001b[0;36mget_phase_space\u001b[0;34m(ra, dec, pmracosdec, pmdec, distance, rv)\u001b[0m\n\u001b[1;32m     68\u001b[0m     \u001b[0mrv\u001b[0m \u001b[0;32min\u001b[0m \u001b[0mkm\u001b[0m\u001b[0;34m/\u001b[0m\u001b[0ms\u001b[0m\u001b[0;34m\u001b[0m\u001b[0;34m\u001b[0m\u001b[0m\n\u001b[1;32m     69\u001b[0m     \"\"\"\n\u001b[0;32m---> 70\u001b[0;31m     coord=astro_coord.SkyCoord(ra=ra*u.degree, dec=dec*u.degree,  \n\u001b[0m\u001b[1;32m     71\u001b[0m                \u001b[0mpm_ra_cosdec\u001b[0m\u001b[0;34m=\u001b[0m \u001b[0mpmracosdec\u001b[0m \u001b[0;34m*\u001b[0m\u001b[0mu\u001b[0m\u001b[0;34m.\u001b[0m\u001b[0mmas\u001b[0m\u001b[0;34m/\u001b[0m\u001b[0mu\u001b[0m\u001b[0;34m.\u001b[0m\u001b[0myr\u001b[0m\u001b[0;34m,\u001b[0m \u001b[0mpm_dec\u001b[0m\u001b[0;34m=\u001b[0m\u001b[0mpmdec\u001b[0m\u001b[0;34m*\u001b[0m\u001b[0mu\u001b[0m\u001b[0;34m.\u001b[0m\u001b[0mmas\u001b[0m\u001b[0;34m/\u001b[0m\u001b[0mu\u001b[0m\u001b[0;34m.\u001b[0m\u001b[0myr\u001b[0m\u001b[0;34m,\u001b[0m\u001b[0;31m \u001b[0m\u001b[0;31m\\\u001b[0m\u001b[0;34m\u001b[0m\u001b[0;34m\u001b[0m\u001b[0m\n\u001b[1;32m     72\u001b[0m                \u001b[0mdistance\u001b[0m\u001b[0;34m=\u001b[0m\u001b[0mdistance\u001b[0m\u001b[0;34m*\u001b[0m\u001b[0mu\u001b[0m\u001b[0;34m.\u001b[0m\u001b[0mpc\u001b[0m\u001b[0;34m,\u001b[0m\u001b[0;34m\u001b[0m\u001b[0;34m\u001b[0m\u001b[0m\n",
      "\u001b[0;32m~/opt/anaconda3/lib/python3.9/site-packages/astropy/coordinates/sky_coordinate.py\u001b[0m in \u001b[0;36m__init__\u001b[0;34m(self, copy, *args, **kwargs)\u001b[0m\n\u001b[1;32m    328\u001b[0m             \u001b[0;31m# Finally make the internal coordinate object.\u001b[0m\u001b[0;34m\u001b[0m\u001b[0;34m\u001b[0m\u001b[0m\n\u001b[1;32m    329\u001b[0m             \u001b[0mframe_kwargs\u001b[0m\u001b[0;34m.\u001b[0m\u001b[0mupdate\u001b[0m\u001b[0;34m(\u001b[0m\u001b[0mcomponents\u001b[0m\u001b[0;34m)\u001b[0m\u001b[0;34m\u001b[0m\u001b[0;34m\u001b[0m\u001b[0m\n\u001b[0;32m--> 330\u001b[0;31m             \u001b[0mself\u001b[0m\u001b[0;34m.\u001b[0m\u001b[0m_sky_coord_frame\u001b[0m \u001b[0;34m=\u001b[0m \u001b[0mframe_cls\u001b[0m\u001b[0;34m(\u001b[0m\u001b[0mcopy\u001b[0m\u001b[0;34m=\u001b[0m\u001b[0mcopy\u001b[0m\u001b[0;34m,\u001b[0m \u001b[0;34m**\u001b[0m\u001b[0mframe_kwargs\u001b[0m\u001b[0;34m)\u001b[0m\u001b[0;34m\u001b[0m\u001b[0;34m\u001b[0m\u001b[0m\n\u001b[0m\u001b[1;32m    331\u001b[0m \u001b[0;34m\u001b[0m\u001b[0m\n\u001b[1;32m    332\u001b[0m             \u001b[0;32mif\u001b[0m \u001b[0;32mnot\u001b[0m \u001b[0mself\u001b[0m\u001b[0;34m.\u001b[0m\u001b[0m_sky_coord_frame\u001b[0m\u001b[0;34m.\u001b[0m\u001b[0mhas_data\u001b[0m\u001b[0;34m:\u001b[0m\u001b[0;34m\u001b[0m\u001b[0;34m\u001b[0m\u001b[0m\n",
      "\u001b[0;32m~/opt/anaconda3/lib/python3.9/site-packages/astropy/coordinates/baseframe.py\u001b[0m in \u001b[0;36m__init__\u001b[0;34m(self, copy, representation_type, differential_type, *args, **kwargs)\u001b[0m\n\u001b[1;32m    324\u001b[0m \u001b[0;34m\u001b[0m\u001b[0m\n\u001b[1;32m    325\u001b[0m         \u001b[0mself\u001b[0m\u001b[0;34m.\u001b[0m\u001b[0m_representation\u001b[0m \u001b[0;34m=\u001b[0m \u001b[0mself\u001b[0m\u001b[0;34m.\u001b[0m\u001b[0m_infer_representation\u001b[0m\u001b[0;34m(\u001b[0m\u001b[0mrepresentation_type\u001b[0m\u001b[0;34m,\u001b[0m \u001b[0mdifferential_type\u001b[0m\u001b[0;34m)\u001b[0m\u001b[0;34m\u001b[0m\u001b[0;34m\u001b[0m\u001b[0m\n\u001b[0;32m--> 326\u001b[0;31m         \u001b[0mself\u001b[0m\u001b[0;34m.\u001b[0m\u001b[0m_data\u001b[0m \u001b[0;34m=\u001b[0m \u001b[0mself\u001b[0m\u001b[0;34m.\u001b[0m\u001b[0m_infer_data\u001b[0m\u001b[0;34m(\u001b[0m\u001b[0margs\u001b[0m\u001b[0;34m,\u001b[0m \u001b[0mcopy\u001b[0m\u001b[0;34m,\u001b[0m \u001b[0mkwargs\u001b[0m\u001b[0;34m)\u001b[0m  \u001b[0;31m# possibly None.\u001b[0m\u001b[0;34m\u001b[0m\u001b[0;34m\u001b[0m\u001b[0m\n\u001b[0m\u001b[1;32m    327\u001b[0m \u001b[0;34m\u001b[0m\u001b[0m\n\u001b[1;32m    328\u001b[0m         \u001b[0;31m# Set frame attributes, if any\u001b[0m\u001b[0;34m\u001b[0m\u001b[0;34m\u001b[0m\u001b[0m\n",
      "\u001b[0;32m~/opt/anaconda3/lib/python3.9/site-packages/astropy/coordinates/baseframe.py\u001b[0m in \u001b[0;36m_infer_data\u001b[0;34m(self, args, copy, kwargs)\u001b[0m\n\u001b[1;32m    472\u001b[0m \u001b[0;34m\u001b[0m\u001b[0m\n\u001b[1;32m    473\u001b[0m                 \u001b[0;32mtry\u001b[0m\u001b[0;34m:\u001b[0m\u001b[0;34m\u001b[0m\u001b[0;34m\u001b[0m\u001b[0m\n\u001b[0;32m--> 474\u001b[0;31m                     representation_data = representation_cls(copy=copy,\n\u001b[0m\u001b[1;32m    475\u001b[0m                                                              **repr_kwargs)\n\u001b[1;32m    476\u001b[0m                 \u001b[0;32mexcept\u001b[0m \u001b[0mTypeError\u001b[0m \u001b[0;32mas\u001b[0m \u001b[0me\u001b[0m\u001b[0;34m:\u001b[0m\u001b[0;34m\u001b[0m\u001b[0;34m\u001b[0m\u001b[0m\n",
      "\u001b[0;32m~/opt/anaconda3/lib/python3.9/site-packages/astropy/coordinates/representation.py\u001b[0m in \u001b[0;36m__init__\u001b[0;34m(self, lon, lat, distance, differentials, copy)\u001b[0m\n\u001b[1;32m   1892\u001b[0m             \u001b[0;32mexcept\u001b[0m \u001b[0mValueError\u001b[0m \u001b[0;32mas\u001b[0m \u001b[0me\u001b[0m\u001b[0;34m:\u001b[0m\u001b[0;34m\u001b[0m\u001b[0;34m\u001b[0m\u001b[0m\n\u001b[1;32m   1893\u001b[0m                 \u001b[0;32mif\u001b[0m \u001b[0me\u001b[0m\u001b[0;34m.\u001b[0m\u001b[0margs\u001b[0m\u001b[0;34m[\u001b[0m\u001b[0;36m0\u001b[0m\u001b[0;34m]\u001b[0m\u001b[0;34m.\u001b[0m\u001b[0mstartswith\u001b[0m\u001b[0;34m(\u001b[0m\u001b[0;34m'Distance must be >= 0'\u001b[0m\u001b[0;34m)\u001b[0m\u001b[0;34m:\u001b[0m\u001b[0;34m\u001b[0m\u001b[0;34m\u001b[0m\u001b[0m\n\u001b[0;32m-> 1894\u001b[0;31m                     raise ValueError(\"Distance must be >= 0. To allow negative \"\n\u001b[0m\u001b[1;32m   1895\u001b[0m                                      \u001b[0;34m\"distance values, you must explicitly pass\"\u001b[0m\u001b[0;34m\u001b[0m\u001b[0;34m\u001b[0m\u001b[0m\n\u001b[1;32m   1896\u001b[0m                                      \u001b[0;34m\" in a `Distance` object with the the \"\u001b[0m\u001b[0;34m\u001b[0m\u001b[0;34m\u001b[0m\u001b[0m\n",
      "\u001b[0;31mValueError\u001b[0m: Distance must be >= 0. To allow negative distance values, you must explicitly pass in a `Distance` object with the the argument 'allow_negative=True'."
     ]
    }
   ],
   "source": [
    "%%capture\n",
    "x= draw_random_star(nsample=5)"
   ]
  },
  {
   "cell_type": "code",
   "execution_count": 9,
   "id": "6adabf18",
   "metadata": {},
   "outputs": [
    {
     "data": {
      "text/html": [
       "<div>\n",
       "<style scoped>\n",
       "    .dataframe tbody tr th:only-of-type {\n",
       "        vertical-align: middle;\n",
       "    }\n",
       "\n",
       "    .dataframe tbody tr th {\n",
       "        vertical-align: top;\n",
       "    }\n",
       "\n",
       "    .dataframe thead th {\n",
       "        text-align: right;\n",
       "    }\n",
       "</style>\n",
       "<table border=\"1\" class=\"dataframe\">\n",
       "  <thead>\n",
       "    <tr style=\"text-align: right;\">\n",
       "      <th></th>\n",
       "    </tr>\n",
       "  </thead>\n",
       "  <tbody>\n",
       "  </tbody>\n",
       "</table>\n",
       "</div>"
      ],
      "text/plain": [
       "Empty DataFrame\n",
       "Columns: []\n",
       "Index: []"
      ]
     },
     "execution_count": 9,
     "metadata": {},
     "output_type": "execute_result"
    }
   ],
   "source": [
    "x"
   ]
  },
  {
   "cell_type": "code",
   "execution_count": 8,
   "id": "603354ed",
   "metadata": {},
   "outputs": [
    {
     "ename": "AttributeError",
     "evalue": "'DataFrame' object has no attribute 'real_unc'",
     "output_type": "error",
     "traceback": [
      "\u001b[0;31m---------------------------------------------------------------------------\u001b[0m",
      "\u001b[0;31mAttributeError\u001b[0m                            Traceback (most recent call last)",
      "\u001b[0;32m/var/folders/p5/jqfspzln0z965dsfd1pj_5900000gp/T/ipykernel_83690/2748887490.py\u001b[0m in \u001b[0;36m<module>\u001b[0;34m\u001b[0m\n\u001b[0;32m----> 1\u001b[0;31m \u001b[0mnp\u001b[0m\u001b[0;34m.\u001b[0m\u001b[0mnanmedian\u001b[0m\u001b[0;34m(\u001b[0m\u001b[0mnp\u001b[0m\u001b[0;34m.\u001b[0m\u001b[0mabs\u001b[0m\u001b[0;34m(\u001b[0m\u001b[0mnp\u001b[0m\u001b[0;34m.\u001b[0m\u001b[0mvstack\u001b[0m\u001b[0;34m(\u001b[0m\u001b[0mx\u001b[0m\u001b[0;34m.\u001b[0m\u001b[0mreal_unc\u001b[0m\u001b[0;34m.\u001b[0m\u001b[0mvalues\u001b[0m\u001b[0;34m)\u001b[0m\u001b[0;34m.\u001b[0m\u001b[0mT\u001b[0m\u001b[0;34m-\u001b[0m\u001b[0mx\u001b[0m\u001b[0;34m.\u001b[0m\u001b[0mreal\u001b[0m\u001b[0;34m.\u001b[0m\u001b[0mvalues\u001b[0m\u001b[0;34m)\u001b[0m\u001b[0;34m)\u001b[0m\u001b[0;34m\u001b[0m\u001b[0;34m\u001b[0m\u001b[0m\n\u001b[0m",
      "\u001b[0;32m~/opt/anaconda3/lib/python3.9/site-packages/pandas/core/generic.py\u001b[0m in \u001b[0;36m__getattr__\u001b[0;34m(self, name)\u001b[0m\n\u001b[1;32m   5485\u001b[0m         ):\n\u001b[1;32m   5486\u001b[0m             \u001b[0;32mreturn\u001b[0m \u001b[0mself\u001b[0m\u001b[0;34m[\u001b[0m\u001b[0mname\u001b[0m\u001b[0;34m]\u001b[0m\u001b[0;34m\u001b[0m\u001b[0;34m\u001b[0m\u001b[0m\n\u001b[0;32m-> 5487\u001b[0;31m         \u001b[0;32mreturn\u001b[0m \u001b[0mobject\u001b[0m\u001b[0;34m.\u001b[0m\u001b[0m__getattribute__\u001b[0m\u001b[0;34m(\u001b[0m\u001b[0mself\u001b[0m\u001b[0;34m,\u001b[0m \u001b[0mname\u001b[0m\u001b[0;34m)\u001b[0m\u001b[0;34m\u001b[0m\u001b[0;34m\u001b[0m\u001b[0m\n\u001b[0m\u001b[1;32m   5488\u001b[0m \u001b[0;34m\u001b[0m\u001b[0m\n\u001b[1;32m   5489\u001b[0m     \u001b[0;32mdef\u001b[0m \u001b[0m__setattr__\u001b[0m\u001b[0;34m(\u001b[0m\u001b[0mself\u001b[0m\u001b[0;34m,\u001b[0m \u001b[0mname\u001b[0m\u001b[0;34m:\u001b[0m \u001b[0mstr\u001b[0m\u001b[0;34m,\u001b[0m \u001b[0mvalue\u001b[0m\u001b[0;34m)\u001b[0m \u001b[0;34m->\u001b[0m \u001b[0;32mNone\u001b[0m\u001b[0;34m:\u001b[0m\u001b[0;34m\u001b[0m\u001b[0;34m\u001b[0m\u001b[0m\n",
      "\u001b[0;31mAttributeError\u001b[0m: 'DataFrame' object has no attribute 'real_unc'"
     ]
    }
   ],
   "source": [
    "np.nanmedian(np.abs(np.vstack(x.real_unc.values).T-x.real.values))"
   ]
  },
  {
   "cell_type": "code",
   "execution_count": null,
   "id": "bfe5c82f",
   "metadata": {},
   "outputs": [],
   "source": [
    "np.nanmedian(np.vstack(x.res_unc.values))"
   ]
  },
  {
   "cell_type": "code",
   "execution_count": null,
   "id": "fa409dde",
   "metadata": {},
   "outputs": [],
   "source": [
    "x.to_csv('../data_weighted_ages_metcuts_validation.txt', index=False)"
   ]
  },
  {
   "cell_type": "code",
   "execution_count": null,
   "id": "51e34241",
   "metadata": {},
   "outputs": [],
   "source": [
    "fig, ax=plt.subplots(figsize=(10, 6))\n",
    "\n",
    "ax.errorbar(x['real'], x['res_median'], xerr=np.abs(np.vstack(x.real_unc.values).T-x.real.values), \\\n",
    "            yerr=x.res_unc.values,  fmt='o',\\\n",
    "            c='#0074D9', ecolor = '#0074D9', alpha=0.2)\n",
    "\n",
    "\n",
    "#ax.errorbar(ross_age[0], ross_res[0], xerr= ross_age[1], yerr= ross_res[1],\n",
    "#            fmt='o', c='#FF851B', ecolor = '#FF851B', label='ROSS 19')\n",
    "\n",
    "ax.errorbar(trapp_age[0], trap_res[0], xerr= trapp_age[1], yerr= trap_res[1],\\\n",
    "            fmt='o', c='#FF4136', ecolor = '#FF4136', label='Trappist 1')\n",
    "\n",
    "ax.legend()\n",
    "ax.plot([0., 13], [0, 13], c='k')\n",
    "ax.set(xlim=[0, 13], ylim=[0, 13])\n",
    "ax.set(xlabel='Lit. Age', ylabel='Est. Age')\n",
    "plt.savefig('weighted_ages_metcuts.jpeg')"
   ]
  },
  {
   "cell_type": "code",
   "execution_count": null,
   "id": "89b47566",
   "metadata": {},
   "outputs": [],
   "source": [
    "data['abs_z']=np.abs(data.z.values)/1000"
   ]
  },
  {
   "cell_type": "code",
   "execution_count": null,
   "id": "576e266f",
   "metadata": {},
   "outputs": [],
   "source": [
    "data['abs_z'].min(), data['abs_z'].max()"
   ]
  },
  {
   "cell_type": "code",
   "execution_count": null,
   "id": "c2e3baaa",
   "metadata": {},
   "outputs": [],
   "source": []
  }
 ],
 "metadata": {
  "kernelspec": {
   "display_name": "Python 3 (ipykernel)",
   "language": "python",
   "name": "python3"
  },
  "language_info": {
   "codemirror_mode": {
    "name": "ipython",
    "version": 3
   },
   "file_extension": ".py",
   "mimetype": "text/x-python",
   "name": "python",
   "nbconvert_exporter": "python",
   "pygments_lexer": "ipython3",
   "version": "3.9.7"
  }
 },
 "nbformat": 4,
 "nbformat_minor": 5
}
