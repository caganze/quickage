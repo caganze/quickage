{
 "cells": [
  {
   "cell_type": "code",
   "execution_count": 1,
   "id": "30887b96",
   "metadata": {},
   "outputs": [
    {
     "ename": "SyntaxError",
     "evalue": "invalid syntax (core.py, line 238)",
     "output_type": "error",
     "traceback": [
      "Traceback \u001b[0;36m(most recent call last)\u001b[0m:\n",
      "  File \u001b[1;32m\"/Users/caganze/opt/anaconda3/lib/python3.9/site-packages/IPython/core/interactiveshell.py\"\u001b[0m, line \u001b[1;32m3444\u001b[0m, in \u001b[1;35mrun_code\u001b[0m\n    exec(code_obj, self.user_global_ns, self.user_ns)\n",
      "  File \u001b[1;32m\"/var/folders/p5/jqfspzln0z965dsfd1pj_5900000gp/T/ipykernel_54275/274303258.py\"\u001b[0m, line \u001b[1;32m1\u001b[0m, in \u001b[1;35m<module>\u001b[0m\n    import quickage\n",
      "\u001b[0;36m  File \u001b[0;32m\"/users/caganze/research/quickage/quickage/__init__.py\"\u001b[0;36m, line \u001b[0;32m3\u001b[0;36m, in \u001b[0;35m<module>\u001b[0;36m\u001b[0m\n\u001b[0;31m    from .core import *\u001b[0m\n",
      "\u001b[0;36m  File \u001b[0;32m\"/users/caganze/research/quickage/quickage/core.py\"\u001b[0;36m, line \u001b[0;32m238\u001b[0m\n\u001b[0;31m    'posterior': data.age1[selection].values }\u001b[0m\n\u001b[0m    ^\u001b[0m\n\u001b[0;31mSyntaxError\u001b[0m\u001b[0;31m:\u001b[0m invalid syntax\n"
     ]
    }
   ],
   "source": [
    "import quickage"
   ]
  },
  {
   "cell_type": "code",
   "execution_count": null,
   "id": "c8d803c3",
   "metadata": {},
   "outputs": [],
   "source": [
    "folder='/users/caganze/research/j1624/data/'\n",
    "filename=folder+'/example_quickage.jpeg'"
   ]
  },
  {
   "cell_type": "code",
   "execution_count": null,
   "id": "e105b76b",
   "metadata": {},
   "outputs": [],
   "source": [
    "sourc={'ra':46.0684208, \\\n",
    "        'dec': -32.203782,\\\n",
    "        'pmra':(-25.809, 0.159),\n",
    "        'pmdec':(-185.783, 0.122),\n",
    "        'distance':(16.9465, 0.0356),\n",
    "        'rv': (0.23, 0.08)}\n",
    "metal=(0.29, 0.01)"
   ]
  },
  {
   "cell_type": "code",
   "execution_count": null,
   "id": "7b1060a4",
   "metadata": {},
   "outputs": [],
   "source": [
    "res=quickage.estimate_age(sourc, metal)\n",
    "res['median_age'], res['std_age']"
   ]
  },
  {
   "cell_type": "code",
   "execution_count": null,
   "id": "32d92f4c",
   "metadata": {},
   "outputs": [],
   "source": [
    "res=quickage.estimate_age(sourc, metal, nsigma=1, plot=True, file_plot=filename)\n"
   ]
  },
  {
   "cell_type": "code",
   "execution_count": null,
   "id": "42885926",
   "metadata": {},
   "outputs": [],
   "source": [
    "res['median_age'], res['std_age']"
   ]
  },
  {
   "cell_type": "code",
   "execution_count": null,
   "id": "549dd766",
   "metadata": {},
   "outputs": [],
   "source": []
  }
 ],
 "metadata": {
  "kernelspec": {
   "display_name": "Python 3 (ipykernel)",
   "language": "python",
   "name": "python3"
  },
  "language_info": {
   "codemirror_mode": {
    "name": "ipython",
    "version": 3
   },
   "file_extension": ".py",
   "mimetype": "text/x-python",
   "name": "python",
   "nbconvert_exporter": "python",
   "pygments_lexer": "ipython3",
   "version": "3.9.7"
  }
 },
 "nbformat": 4,
 "nbformat_minor": 5
}
