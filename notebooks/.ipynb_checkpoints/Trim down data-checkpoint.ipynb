{
 "cells": [
  {
   "cell_type": "code",
   "execution_count": 1,
   "id": "833bfe15",
   "metadata": {},
   "outputs": [],
   "source": [
    "import os\n",
    "import astropy.coordinates as astro_coord\n",
    "from tqdm import tqdm\n",
    "import numpy as np\n",
    "import matplotlib.pyplot as plt\n",
    "import astropy.units as u\n",
    "\n",
    "%matplotlib inline"
   ]
  },
  {
   "cell_type": "code",
   "execution_count": 2,
   "id": "c399f325",
   "metadata": {},
   "outputs": [],
   "source": [
    "def load_galah_sample_previous():\n",
    "    from astropy.table import Table\n",
    "    merged_file='/volumes/LaCie/galah_merged.fits'\n",
    "    galah= Table.read(merged_file).to_pandas()\n",
    "    galah['vtot']= (galah['vx_gala (km/s)']**2+galah['vy_gala (km/s)']**2+galah['vz_gala (km/s)']**2)**0.5\n",
    "    galah['pmracosdec']=galah.pmra_edr3*np.cos(galah.dec_edr3*u.degree)\n",
    "    return galah.rename(columns={'vx_gala (km/s)': 'v_x', \\\n",
    "                      'vy_gala (km/s)': 'v_y',  \\\n",
    "                      'vz_gala (km/s)': 'v_z',\n",
    "                      'x_gala (pc)': 'x',\n",
    "                     'y_gala (pc)': 'y',\n",
    "                     'z_gala (pc)': 'z',\n",
    "                    'e_fe_h': 'er[Fe/H]',\n",
    "                    'e_alpha_fe': 'er[alpha/Fe]',\n",
    "                    'Jz (kpc2/Myr)': 'Jz',\n",
    "                    'age_bstep': 'age', \n",
    "                    'ra_edr3': 'ra_gaia',\\\n",
    "                     'dec_edr3': 'de_gaia', \\\n",
    "                     'pmdec_edr3': 'pmde',\\\n",
    "                      'pmra_edr3': 'pmra',\n",
    "                     'parallax_edr3': 'plx',\\\n",
    "                    'e_rv_galah': 'er_rv',\n",
    "                    'parallax_error_edr3': 'eplx',\n",
    "                     'rv_galah': 'rv'})[['star_id','v_x', 'v_y', 'v_z', 'vtot', 'x', 'y', 'z', 'fe_h', \\\n",
    "                                         'Jz', 'age1', 'ra_gaia', 'de_gaia', 'er[Fe/H]', 'er_rv', 'e_fe_h',\\\n",
    "                                         'pmracosdec', 'e84_age_bstep', 'e16_age_bstep', 'eplx', 'pmde',\\\n",
    "                                         'pmra', 'plx', 'rv','alpha_fe']]"
   ]
  },
  {
   "cell_type": "code",
   "execution_count": null,
   "id": "45646f45",
   "metadata": {},
   "outputs": [],
   "source": []
  },
  {
   "cell_type": "code",
   "execution_count": 3,
   "id": "789711e8",
   "metadata": {},
   "outputs": [],
   "source": [
    "from astropy.io import fits\n",
    "from astropy.table import Table"
   ]
  },
  {
   "cell_type": "code",
   "execution_count": 6,
   "id": "7b17dca0",
   "metadata": {},
   "outputs": [],
   "source": [
    "def load_galah_sharma():\n",
    "    #sharma 2018 and other catalogs\n",
    "    sharma_ages_hdu=fits.open('/users/caganze/GALAH_DR3_VAC_ages_v2.fits')\n",
    "    sharma_meta_hdu=fits.open('/users/caganze/GALAH_DR3_VAC_GaiaEDR3_v2.fits')\n",
    "    sharma_kinem_hdu=fits.open('/users/caganze/GALAH_DR3_VAC_rv_v2.fits')\n",
    "    sharma_dyn_hdu=fits.open('/users/caganze/GALAH_DR3_VAC_dynamics_v2.fits')\n",
    "    \n",
    "    #master file \n",
    "    #get metallicities and alpha from GALAH\n",
    "    galah_master= Table(fits.open('/Volumes/LaCie/GALAH_DR3_main_allspec_v2.fits')[1].data).to_pandas()\n",
    "    \n",
    "    #tables\n",
    "    sh_dyn_tbl=Table(sharma_dyn_hdu[1].data).to_pandas()\n",
    "    sh_age_tbl=Table(sharma_ages_hdu[1].data).to_pandas()\n",
    "    sh_met_tbl=Table(sharma_meta_hdu[1].data).to_pandas()\n",
    "    sh_kin_tbl=Table(sharma_kinem_hdu[1].data).to_pandas()\n",
    "    \n",
    "    merged_master_file=sh_age_tbl.merge(sh_met_tbl,\\\n",
    "                                    on='sobject_id').merge(sh_kin_tbl, \\\n",
    "                                                           on='sobject_id').merge(sh_dyn_tbl, on='sobject_id')\n",
    "    \n",
    "    merged_final=   merged_master_file.merge(galah_master, on='sobject_id')\n",
    "    \n",
    "    print ( merged_final['rv_galah'])\n",
    "    #\n",
    "    \n",
    "    #save merged table\n",
    "    merged_final.to_hdf('/Volumes/LaCie/merged_galah_dr3_sharma2018.h5', key='all')\n",
    "    \n",
    "    columns={'rv_galah' : 'rv', \n",
    "             'e_rv_galah': 'er_rv',\n",
    "             'parallax': 'plx',\n",
    "             'parallax_error': 'eplx',\n",
    "             'pmdec': 'pmde',\n",
    "             'pmdec': 'pmde',\n",
    "             'J_Z': 'Jz',\n",
    "             'J_R': 'Jr',\n",
    "             'age_bstep': 'age',\n",
    "             'meh_act_bstep': '[Fe/H]',\n",
    "            }\n",
    "    \n",
    "    merged=merged_final.rename(columns=columns)\n",
    "    \n",
    "    merged['x']= merged.X_XYZ*1000\n",
    "    merged['y']= merged.X_XYZ*1000\n",
    "    merged['z']= merged.Z_XYZ*1000\n",
    "    merged['vphi_Rzphi'] = merged.vT_Rzphi * (8.21*u.kpc/u.km) / merged.R_Rzphi\n",
    "    merged['vtot']= (merged.vR_Rzphi**2+ merged.vz_Rzphi**2+merged.vphi_Rzphi**2)**0.5\n",
    "    merged['pmracosdec']= merged.pmra*np.cos(merged.dec*u.deg)\n",
    "    \n",
    "    #rename colunns\n",
    "    #some renaming just to stick to uniform naming convention\n",
    "  \n",
    "    return merged[['sobject_id', 'vtot', 'x', 'y', 'z', \\\n",
    "        'Jz', 'age', 'ra', 'dec',  'er_rv',\\\n",
    "        'pmracosdec', 'e84_age_bstep', 'e16_age_bstep', 'eplx', 'pmde',\\\n",
    "        'pmra', 'plx', 'rv', 'ruwe',\\\n",
    "         'U_UVW', 'V_UVW', 'W_UVW', 'R_Rzphi', 'z_Rzphi', 'phi_Rzphi',\\\n",
    "        'Jr', 'L_Z', 'Jz', 'fe_h', 'e_fe_h', 'alpha_fe', 'e_alpha_fe']]\n"
   ]
  },
  {
   "cell_type": "code",
   "execution_count": 7,
   "id": "24ef65d3",
   "metadata": {},
   "outputs": [
    {
     "ename": "KeyError",
     "evalue": "\"['er_rv', 'rv'] not in index\"",
     "output_type": "error",
     "traceback": [
      "\u001b[0;31m---------------------------------------------------------------------------\u001b[0m",
      "\u001b[0;31mKeyError\u001b[0m                                  Traceback (most recent call last)",
      "\u001b[0;32m/var/folders/p5/jqfspzln0z965dsfd1pj_5900000gp/T/ipykernel_80742/1122350546.py\u001b[0m in \u001b[0;36m<module>\u001b[0;34m\u001b[0m\n\u001b[0;32m----> 1\u001b[0;31m \u001b[0mgalah\u001b[0m\u001b[0;34m=\u001b[0m\u001b[0mload_galah_sharma\u001b[0m\u001b[0;34m(\u001b[0m\u001b[0;34m)\u001b[0m\u001b[0;34m\u001b[0m\u001b[0;34m\u001b[0m\u001b[0m\n\u001b[0m",
      "\u001b[0;32m/var/folders/p5/jqfspzln0z965dsfd1pj_5900000gp/T/ipykernel_80742/770173543.py\u001b[0m in \u001b[0;36mload_galah_sharma\u001b[0;34m()\u001b[0m\n\u001b[1;32m     50\u001b[0m     \u001b[0;31m#some renaming just to stick to uniform naming convention\u001b[0m\u001b[0;34m\u001b[0m\u001b[0;34m\u001b[0m\u001b[0m\n\u001b[1;32m     51\u001b[0m \u001b[0;34m\u001b[0m\u001b[0m\n\u001b[0;32m---> 52\u001b[0;31m     return merged[['sobject_id', 'vtot', 'x', 'y', 'z', \\\n\u001b[0m\u001b[1;32m     53\u001b[0m         \u001b[0;34m'Jz'\u001b[0m\u001b[0;34m,\u001b[0m \u001b[0;34m'age'\u001b[0m\u001b[0;34m,\u001b[0m \u001b[0;34m'ra'\u001b[0m\u001b[0;34m,\u001b[0m \u001b[0;34m'dec'\u001b[0m\u001b[0;34m,\u001b[0m  \u001b[0;34m'er_rv'\u001b[0m\u001b[0;34m,\u001b[0m\u001b[0;31m\\\u001b[0m\u001b[0;34m\u001b[0m\u001b[0;34m\u001b[0m\u001b[0m\n\u001b[1;32m     54\u001b[0m                                          \u001b[0;34m'pmracosdec'\u001b[0m\u001b[0;34m,\u001b[0m \u001b[0;34m'e84_age_bstep'\u001b[0m\u001b[0;34m,\u001b[0m \u001b[0;34m'e16_age_bstep'\u001b[0m\u001b[0;34m,\u001b[0m \u001b[0;34m'eplx'\u001b[0m\u001b[0;34m,\u001b[0m \u001b[0;34m'pmde'\u001b[0m\u001b[0;34m,\u001b[0m\u001b[0;31m\\\u001b[0m\u001b[0;34m\u001b[0m\u001b[0;34m\u001b[0m\u001b[0m\n",
      "\u001b[0;32m~/opt/anaconda3/lib/python3.9/site-packages/pandas/core/frame.py\u001b[0m in \u001b[0;36m__getitem__\u001b[0;34m(self, key)\u001b[0m\n\u001b[1;32m   3462\u001b[0m             \u001b[0;32mif\u001b[0m \u001b[0mis_iterator\u001b[0m\u001b[0;34m(\u001b[0m\u001b[0mkey\u001b[0m\u001b[0;34m)\u001b[0m\u001b[0;34m:\u001b[0m\u001b[0;34m\u001b[0m\u001b[0;34m\u001b[0m\u001b[0m\n\u001b[1;32m   3463\u001b[0m                 \u001b[0mkey\u001b[0m \u001b[0;34m=\u001b[0m \u001b[0mlist\u001b[0m\u001b[0;34m(\u001b[0m\u001b[0mkey\u001b[0m\u001b[0;34m)\u001b[0m\u001b[0;34m\u001b[0m\u001b[0;34m\u001b[0m\u001b[0m\n\u001b[0;32m-> 3464\u001b[0;31m             \u001b[0mindexer\u001b[0m \u001b[0;34m=\u001b[0m \u001b[0mself\u001b[0m\u001b[0;34m.\u001b[0m\u001b[0mloc\u001b[0m\u001b[0;34m.\u001b[0m\u001b[0m_get_listlike_indexer\u001b[0m\u001b[0;34m(\u001b[0m\u001b[0mkey\u001b[0m\u001b[0;34m,\u001b[0m \u001b[0maxis\u001b[0m\u001b[0;34m=\u001b[0m\u001b[0;36m1\u001b[0m\u001b[0;34m)\u001b[0m\u001b[0;34m[\u001b[0m\u001b[0;36m1\u001b[0m\u001b[0;34m]\u001b[0m\u001b[0;34m\u001b[0m\u001b[0;34m\u001b[0m\u001b[0m\n\u001b[0m\u001b[1;32m   3465\u001b[0m \u001b[0;34m\u001b[0m\u001b[0m\n\u001b[1;32m   3466\u001b[0m         \u001b[0;31m# take() does not accept boolean indexers\u001b[0m\u001b[0;34m\u001b[0m\u001b[0;34m\u001b[0m\u001b[0m\n",
      "\u001b[0;32m~/opt/anaconda3/lib/python3.9/site-packages/pandas/core/indexing.py\u001b[0m in \u001b[0;36m_get_listlike_indexer\u001b[0;34m(self, key, axis)\u001b[0m\n\u001b[1;32m   1312\u001b[0m             \u001b[0mkeyarr\u001b[0m\u001b[0;34m,\u001b[0m \u001b[0mindexer\u001b[0m\u001b[0;34m,\u001b[0m \u001b[0mnew_indexer\u001b[0m \u001b[0;34m=\u001b[0m \u001b[0max\u001b[0m\u001b[0;34m.\u001b[0m\u001b[0m_reindex_non_unique\u001b[0m\u001b[0;34m(\u001b[0m\u001b[0mkeyarr\u001b[0m\u001b[0;34m)\u001b[0m\u001b[0;34m\u001b[0m\u001b[0;34m\u001b[0m\u001b[0m\n\u001b[1;32m   1313\u001b[0m \u001b[0;34m\u001b[0m\u001b[0m\n\u001b[0;32m-> 1314\u001b[0;31m         \u001b[0mself\u001b[0m\u001b[0;34m.\u001b[0m\u001b[0m_validate_read_indexer\u001b[0m\u001b[0;34m(\u001b[0m\u001b[0mkeyarr\u001b[0m\u001b[0;34m,\u001b[0m \u001b[0mindexer\u001b[0m\u001b[0;34m,\u001b[0m \u001b[0maxis\u001b[0m\u001b[0;34m)\u001b[0m\u001b[0;34m\u001b[0m\u001b[0;34m\u001b[0m\u001b[0m\n\u001b[0m\u001b[1;32m   1315\u001b[0m \u001b[0;34m\u001b[0m\u001b[0m\n\u001b[1;32m   1316\u001b[0m         if needs_i8_conversion(ax.dtype) or isinstance(\n",
      "\u001b[0;32m~/opt/anaconda3/lib/python3.9/site-packages/pandas/core/indexing.py\u001b[0m in \u001b[0;36m_validate_read_indexer\u001b[0;34m(self, key, indexer, axis)\u001b[0m\n\u001b[1;32m   1375\u001b[0m \u001b[0;34m\u001b[0m\u001b[0m\n\u001b[1;32m   1376\u001b[0m             \u001b[0mnot_found\u001b[0m \u001b[0;34m=\u001b[0m \u001b[0mlist\u001b[0m\u001b[0;34m(\u001b[0m\u001b[0mensure_index\u001b[0m\u001b[0;34m(\u001b[0m\u001b[0mkey\u001b[0m\u001b[0;34m)\u001b[0m\u001b[0;34m[\u001b[0m\u001b[0mmissing_mask\u001b[0m\u001b[0;34m.\u001b[0m\u001b[0mnonzero\u001b[0m\u001b[0;34m(\u001b[0m\u001b[0;34m)\u001b[0m\u001b[0;34m[\u001b[0m\u001b[0;36m0\u001b[0m\u001b[0;34m]\u001b[0m\u001b[0;34m]\u001b[0m\u001b[0;34m.\u001b[0m\u001b[0munique\u001b[0m\u001b[0;34m(\u001b[0m\u001b[0;34m)\u001b[0m\u001b[0;34m)\u001b[0m\u001b[0;34m\u001b[0m\u001b[0;34m\u001b[0m\u001b[0m\n\u001b[0;32m-> 1377\u001b[0;31m             \u001b[0;32mraise\u001b[0m \u001b[0mKeyError\u001b[0m\u001b[0;34m(\u001b[0m\u001b[0;34mf\"{not_found} not in index\"\u001b[0m\u001b[0;34m)\u001b[0m\u001b[0;34m\u001b[0m\u001b[0;34m\u001b[0m\u001b[0m\n\u001b[0m\u001b[1;32m   1378\u001b[0m \u001b[0;34m\u001b[0m\u001b[0m\n\u001b[1;32m   1379\u001b[0m \u001b[0;34m\u001b[0m\u001b[0m\n",
      "\u001b[0;31mKeyError\u001b[0m: \"['er_rv', 'rv'] not in index\""
     ]
    }
   ],
   "source": [
    "galah=load_galah_sharma()"
   ]
  },
  {
   "cell_type": "code",
   "execution_count": null,
   "id": "7deca0b3",
   "metadata": {},
   "outputs": [],
   "source": [
    "fig, ax=plt.subplots()\n",
    "_ =ax.hist(merged['vtot'].values, bins=100, range=[0, 500])"
   ]
  },
  {
   "cell_type": "code",
   "execution_count": null,
   "id": "85c379da",
   "metadata": {},
   "outputs": [],
   "source": [
    "fig, ax=plt.subplots()\n",
    "_= plt.hist(merged.age_bstep,log=True, bins=100) "
   ]
  },
  {
   "cell_type": "code",
   "execution_count": null,
   "id": "89d944f1",
   "metadata": {},
   "outputs": [],
   "source": []
  },
  {
   "cell_type": "code",
   "execution_count": null,
   "id": "e1c01d90",
   "metadata": {},
   "outputs": [],
   "source": [
    "hj"
   ]
  },
  {
   "cell_type": "code",
   "execution_count": null,
   "id": "c74d8d06",
   "metadata": {},
   "outputs": [],
   "source": [
    "import quickage\n",
    "old_schneider=quickage.load_schneider_samples_old(use_jz=False, norbits=200)"
   ]
  },
  {
   "cell_type": "code",
   "execution_count": null,
   "id": "70933e65",
   "metadata": {},
   "outputs": [],
   "source": [
    "old_schneider.to_csv('/users/caganze/research/quickage/data/schneiderdata_lite.csv.gz', compression='gzip')"
   ]
  },
  {
   "cell_type": "code",
   "execution_count": null,
   "id": "b188728e",
   "metadata": {},
   "outputs": [],
   "source": [
    "list(np.sort(sh_met_tbl.columns))"
   ]
  },
  {
   "cell_type": "code",
   "execution_count": null,
   "id": "cc8dc9db",
   "metadata": {},
   "outputs": [],
   "source": [
    "sh_kin_tbl.columns"
   ]
  },
  {
   "cell_type": "code",
   "execution_count": null,
   "id": "0e9668f6",
   "metadata": {},
   "outputs": [],
   "source": [
    "# sh_dyn_tbl"
   ]
  },
  {
   "cell_type": "code",
   "execution_count": null,
   "id": "567fba3e",
   "metadata": {},
   "outputs": [],
   "source": []
  },
  {
   "cell_type": "code",
   "execution_count": null,
   "id": "48e9ae16",
   "metadata": {},
   "outputs": [],
   "source": [
    "galah_master.e_alpha_fe"
   ]
  },
  {
   "cell_type": "code",
   "execution_count": null,
   "id": "3f314c76",
   "metadata": {},
   "outputs": [],
   "source": []
  },
  {
   "cell_type": "code",
   "execution_count": null,
   "id": "6ef268ed",
   "metadata": {},
   "outputs": [],
   "source": [
    "#merged.dec"
   ]
  },
  {
   "cell_type": "code",
   "execution_count": null,
   "id": "44012f03",
   "metadata": {},
   "outputs": [],
   "source": []
  },
  {
   "cell_type": "code",
   "execution_count": null,
   "id": "4eea495f",
   "metadata": {},
   "outputs": [],
   "source": []
  },
  {
   "cell_type": "code",
   "execution_count": null,
   "id": "985a32f9",
   "metadata": {},
   "outputs": [],
   "source": []
  },
  {
   "cell_type": "code",
   "execution_count": null,
   "id": "daf91b53",
   "metadata": {},
   "outputs": [],
   "source": [
    "_= plt.hist(np.log10(np.abs((merged.z))),log=True, bins=100)"
   ]
  },
  {
   "cell_type": "code",
   "execution_count": null,
   "id": "b0332556",
   "metadata": {},
   "outputs": [],
   "source": []
  },
  {
   "cell_type": "code",
   "execution_count": null,
   "id": "94e8c0bb",
   "metadata": {},
   "outputs": [],
   "source": []
  }
 ],
 "metadata": {
  "kernelspec": {
   "display_name": "Python 3 (ipykernel)",
   "language": "python",
   "name": "python3"
  },
  "language_info": {
   "codemirror_mode": {
    "name": "ipython",
    "version": 3
   },
   "file_extension": ".py",
   "mimetype": "text/x-python",
   "name": "python",
   "nbconvert_exporter": "python",
   "pygments_lexer": "ipython3",
   "version": "3.9.7"
  }
 },
 "nbformat": 4,
 "nbformat_minor": 5
}
